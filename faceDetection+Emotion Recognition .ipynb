{
 "cells": [
  {
   "cell_type": "code",
   "execution_count": 1,
   "metadata": {},
   "outputs": [],
   "source": [
    "\n",
    "import cv2\n",
    "import matplotlib.pyplot as plt \n",
    "from deepface import DeepFace \n",
    "\n",
    "# !pip install deepface\n"
   ]
  },
  {
   "cell_type": "code",
   "execution_count": 2,
   "metadata": {},
   "outputs": [],
   "source": [
    "path = 'C:/Users/Achraf Computer/Desktop/Data/'"
   ]
  },
  {
   "cell_type": "code",
   "execution_count": null,
   "metadata": {},
   "outputs": [],
   "source": [
    "output = text['']"
   ]
  },
  {
   "cell_type": "code",
   "execution_count": 15,
   "metadata": {},
   "outputs": [
    {
     "name": "stderr",
     "output_type": "stream",
     "text": [
      "Action: race: 100%|██████████████████████████████████████████████████████████████████████| 4/4 [00:02<00:00,  1.87it/s]\n",
      "Action: race: 100%|██████████████████████████████████████████████████████████████████████| 4/4 [00:02<00:00,  1.65it/s]\n",
      "Action: race: 100%|██████████████████████████████████████████████████████████████████████| 4/4 [00:02<00:00,  1.51it/s]\n",
      "Action: race: 100%|██████████████████████████████████████████████████████████████████████| 4/4 [00:02<00:00,  1.51it/s]\n",
      "Action: race: 100%|██████████████████████████████████████████████████████████████████████| 4/4 [00:02<00:00,  1.68it/s]\n",
      "Action: race: 100%|██████████████████████████████████████████████████████████████████████| 4/4 [00:02<00:00,  1.63it/s]\n",
      "Action: race: 100%|██████████████████████████████████████████████████████████████████████| 4/4 [00:02<00:00,  1.60it/s]\n",
      "Action: race: 100%|██████████████████████████████████████████████████████████████████████| 4/4 [00:02<00:00,  1.68it/s]\n",
      "Action: race: 100%|██████████████████████████████████████████████████████████████████████| 4/4 [00:02<00:00,  1.70it/s]\n",
      "Action: race: 100%|██████████████████████████████████████████████████████████████████████| 4/4 [00:02<00:00,  1.58it/s]\n",
      "Action: race: 100%|██████████████████████████████████████████████████████████████████████| 4/4 [00:02<00:00,  1.82it/s]\n"
     ]
    }
   ],
   "source": [
    "# definning classifier \n",
    "face_cascade = cv2.CascadeClassifier(path + 'haarcascade_frontalface_default.xml')\n",
    "cap = cv2.VideoCapture(path +'testVideo_EmiliaClarke.mp4')\n",
    "\n",
    "while(1):\n",
    "    ret,frame = cap.read()\n",
    "    if not ret :\n",
    "        print('error reading frames..')\n",
    "        break \n",
    "    faces = face_cascade.detectMultiScale(frame,scaleFactor = 1.3, minNeighbors = 4 )\n",
    "    output = DeepFace.analyze(frame) \n",
    "    text = str(output['age']) + ' ' + output['gender'] +' ' + output['dominant_emotion']\n",
    "    for (x,y,w,h) in faces :\n",
    "        cv2.rectangle(frame, (x,y), (x+w,y+h), (255,0,0), 2) \n",
    "        cv2.putText(frame, 'Emilia Clarke : ' + text,(x,y-5), cv2.FONT_HERSHEY_SIMPLEX, 1, (255,0,0), thickness = 2)\n",
    "        \n",
    "    cv2.imshow(\"Video\", frame)\n",
    "    \n",
    "    if cv2.waitKey(1) &0xFF==ord('a'):\n",
    "        break\n",
    "\n",
    "cap.release()\n",
    "cv2.destroyAllWindows()\n",
    "        \n",
    "        "
   ]
  },
  {
   "cell_type": "code",
   "execution_count": 7,
   "metadata": {},
   "outputs": [
    {
     "name": "stderr",
     "output_type": "stream",
     "text": [
      "Action: race: 100%|██████████████████████████████████████████████████████████████████████| 4/4 [00:01<00:00,  2.47it/s]\n"
     ]
    },
    {
     "data": {
      "text/plain": [
       "-1"
      ]
     },
     "execution_count": 7,
     "metadata": {},
     "output_type": "execute_result"
    }
   ],
   "source": [
    "img = cv2.imread('C:/Users/Achraf Computer/Desktop/image/johnsnow.png')\n",
    "output =DeepFace.analyze(img) \n",
    "face_cascade = cv2.CascadeClassifier(path + 'haarcascade_frontalface_default.xml')\n",
    "faces = face_cascade.detectMultiScale(img,scaleFactor = 1.3, minNeighbors = 4 )\n",
    "text = str(output['age']) + 'Y.o ' + output['gender'] +' ' + output['dominant_emotion']\n",
    "for (x,y,w,h) in faces :\n",
    "    cv2.rectangle(img, (x,y), (x+w,y+h), (0,255,0), 2) \n",
    "    cv2.putText(img, 'John Snow: ' + text,(x,y-5), cv2.FONT_HERSHEY_SIMPLEX, 1, (255,0,0), thickness = 2)\n",
    "        \n",
    "\n",
    "cv2.imshow('frame', img)\n",
    "cv2.waitKey(5000)"
   ]
  },
  {
   "cell_type": "code",
   "execution_count": null,
   "metadata": {},
   "outputs": [],
   "source": []
  }
 ],
 "metadata": {
  "kernelspec": {
   "display_name": "Python 3",
   "language": "python",
   "name": "python3"
  },
  "language_info": {
   "codemirror_mode": {
    "name": "ipython",
    "version": 3
   },
   "file_extension": ".py",
   "mimetype": "text/x-python",
   "name": "python",
   "nbconvert_exporter": "python",
   "pygments_lexer": "ipython3",
   "version": "3.8.5"
  }
 },
 "nbformat": 4,
 "nbformat_minor": 4
}
